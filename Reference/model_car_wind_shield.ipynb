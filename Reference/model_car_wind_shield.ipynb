{
 "cells": [
  {
   "cell_type": "code",
   "execution_count": null,
   "metadata": {},
   "outputs": [],
   "source": [
    "! pip install split-folders"
   ]
  },
  {
   "cell_type": "code",
   "execution_count": 28,
   "metadata": {},
   "outputs": [],
   "source": [
    "import tensorflow as tf\n",
    "from tensorflow import keras"
   ]
  },
  {
   "cell_type": "markdown",
   "metadata": {},
   "source": [
    "Analysing the data"
   ]
  },
  {
   "cell_type": "code",
   "execution_count": 50,
   "metadata": {},
   "outputs": [
    {
     "data": {
      "text/html": [
       "<div>\n",
       "<style scoped>\n",
       "    .dataframe tbody tr th:only-of-type {\n",
       "        vertical-align: middle;\n",
       "    }\n",
       "\n",
       "    .dataframe tbody tr th {\n",
       "        vertical-align: top;\n",
       "    }\n",
       "\n",
       "    .dataframe thead th {\n",
       "        text-align: right;\n",
       "    }\n",
       "</style>\n",
       "<table border=\"1\" class=\"dataframe\">\n",
       "  <thead>\n",
       "    <tr style=\"text-align: right;\">\n",
       "      <th></th>\n",
       "      <th>Path</th>\n",
       "      <th>Label</th>\n",
       "    </tr>\n",
       "  </thead>\n",
       "  <tbody>\n",
       "    <tr>\n",
       "      <th>0</th>\n",
       "      <td>C:\\dataset\\final\\combination\\000011.jpg</td>\n",
       "      <td>combination</td>\n",
       "    </tr>\n",
       "    <tr>\n",
       "      <th>1</th>\n",
       "      <td>C:\\dataset\\final\\combination\\000012.jpg</td>\n",
       "      <td>combination</td>\n",
       "    </tr>\n",
       "    <tr>\n",
       "      <th>2</th>\n",
       "      <td>C:\\dataset\\final\\combination\\000013.jpg</td>\n",
       "      <td>combination</td>\n",
       "    </tr>\n",
       "    <tr>\n",
       "      <th>3</th>\n",
       "      <td>C:\\dataset\\final\\combination\\000014 (2).jpg</td>\n",
       "      <td>combination</td>\n",
       "    </tr>\n",
       "    <tr>\n",
       "      <th>4</th>\n",
       "      <td>C:\\dataset\\final\\combination\\000014.jpg</td>\n",
       "      <td>combination</td>\n",
       "    </tr>\n",
       "    <tr>\n",
       "      <th>...</th>\n",
       "      <td>...</td>\n",
       "      <td>...</td>\n",
       "    </tr>\n",
       "    <tr>\n",
       "      <th>418</th>\n",
       "      <td>C:\\dataset\\final\\stress_crack\\frame_1220.jpg</td>\n",
       "      <td>stress_crack</td>\n",
       "    </tr>\n",
       "    <tr>\n",
       "      <th>419</th>\n",
       "      <td>C:\\dataset\\final\\stress_crack\\site2_1.jpg</td>\n",
       "      <td>stress_crack</td>\n",
       "    </tr>\n",
       "    <tr>\n",
       "      <th>420</th>\n",
       "      <td>C:\\dataset\\final\\stress_crack\\site2_2.jpg</td>\n",
       "      <td>stress_crack</td>\n",
       "    </tr>\n",
       "    <tr>\n",
       "      <th>421</th>\n",
       "      <td>C:\\dataset\\final\\stress_crack\\site2_25.jpg</td>\n",
       "      <td>stress_crack</td>\n",
       "    </tr>\n",
       "    <tr>\n",
       "      <th>422</th>\n",
       "      <td>C:\\dataset\\final\\stress_crack\\site2_3.jpg</td>\n",
       "      <td>stress_crack</td>\n",
       "    </tr>\n",
       "  </tbody>\n",
       "</table>\n",
       "<p>423 rows × 2 columns</p>\n",
       "</div>"
      ],
      "text/plain": [
       "                                             Path         Label\n",
       "0         C:\\dataset\\final\\combination\\000011.jpg   combination\n",
       "1         C:\\dataset\\final\\combination\\000012.jpg   combination\n",
       "2         C:\\dataset\\final\\combination\\000013.jpg   combination\n",
       "3     C:\\dataset\\final\\combination\\000014 (2).jpg   combination\n",
       "4         C:\\dataset\\final\\combination\\000014.jpg   combination\n",
       "..                                            ...           ...\n",
       "418  C:\\dataset\\final\\stress_crack\\frame_1220.jpg  stress_crack\n",
       "419     C:\\dataset\\final\\stress_crack\\site2_1.jpg  stress_crack\n",
       "420     C:\\dataset\\final\\stress_crack\\site2_2.jpg  stress_crack\n",
       "421    C:\\dataset\\final\\stress_crack\\site2_25.jpg  stress_crack\n",
       "422     C:\\dataset\\final\\stress_crack\\site2_3.jpg  stress_crack\n",
       "\n",
       "[423 rows x 2 columns]"
      ]
     },
     "execution_count": 50,
     "metadata": {},
     "output_type": "execute_result"
    }
   ],
   "source": [
    "import os\n",
    "import pandas as pd\n",
    "src_dir=r'C:\\dataset'\n",
    "cat=['final']\n",
    "lst=[]\n",
    "for i in cat:\n",
    "    cat_path=os.path.join(src_dir,i)\n",
    "    classes=os.listdir(cat_path)\n",
    "    for j in classes:\n",
    "        class_path=os.path.join(cat_path,j)\n",
    "        for k in os.listdir(class_path):\n",
    "            lst.append([os.path.join(class_path,k),j])\n",
    "df=pd.DataFrame(lst,columns=['Path','Label'])\n",
    "df"
   ]
  },
  {
   "cell_type": "code",
   "execution_count": 51,
   "metadata": {},
   "outputs": [
    {
     "data": {
      "text/plain": [
       "Label\n",
       "non_cracked      202\n",
       "combination       94\n",
       "star_crack        73\n",
       "stress_crack      39\n",
       "floater_crack      8\n",
       "edge_crack         7\n",
       "Name: count, dtype: int64"
      ]
     },
     "execution_count": 51,
     "metadata": {},
     "output_type": "execute_result"
    }
   ],
   "source": [
    "df['Label'].value_counts()\n",
    "#Imbalenced dataset"
   ]
  },
  {
   "cell_type": "code",
   "execution_count": 52,
   "metadata": {},
   "outputs": [
    {
     "data": {
      "text/plain": [
       "<Axes: ylabel='count'>"
      ]
     },
     "execution_count": 52,
     "metadata": {},
     "output_type": "execute_result"
    },
    {
     "data": {
      "image/png": "[encoded data removed]",
      "text/plain": [
       "<Figure size 640x480 with 1 Axes>"
      ]
     },
     "metadata": {},
     "output_type": "display_data"
    }
   ],
   "source": [
    "df['Label'].value_counts().plot.pie()"
   ]
  },
  {
   "cell_type": "markdown",
   "metadata": {},
   "source": [
    "Balancing the Dataset for optimal results"
   ]
  },
  {
   "cell_type": "code",
   "execution_count": 53,
   "metadata": {},
   "outputs": [
    {
     "name": "stdout",
     "output_type": "stream",
     "text": [
      "371\n",
      "Label\n",
      "non_cracked      150\n",
      "combination       94\n",
      "star_crack        73\n",
      "stress_crack      39\n",
      "floater_crack      8\n",
      "edge_crack         7\n",
      "Name: count, dtype: int64\n"
     ]
    }
   ],
   "source": [
    "sample_list=[]\n",
    "max_size= 150 #We aim to balance the dataset by making all class values 150\n",
    "\n",
    "#Undersampling groups having more than 100 values\n",
    "groups=df.groupby('Label')\n",
    "for label in df['Label'].unique():                 \n",
    "    group=groups.get_group(label)\n",
    "    sample_count=len(group)    \n",
    "    if sample_count> max_size:\n",
    "        samples=group.sample(max_size, replace=False, weights=None, random_state=123, axis=0).reset_index(drop=True)\n",
    "    else:\n",
    "        samples=group.sample(frac=1.0, replace=False, random_state=123, axis=0).reset_index(drop=True)\n",
    "    sample_list.append(samples)\n",
    "df=pd.concat(sample_list, axis=0).reset_index(drop=True)\n",
    "print (len(df))     \n",
    "print (df['Label'].value_counts())"
   ]
  },
  {
   "cell_type": "code",
   "execution_count": 54,
   "metadata": {},
   "outputs": [
    {
     "name": "stdout",
     "output_type": "stream",
     "text": [
      "['combination', 'edge_crack', 'floater_crack', 'non_cracked', 'star_crack', 'stress_crack']\n"
     ]
    }
   ],
   "source": [
    "#Oversampling groups having less than 100 values buy generating augmented images\n",
    "import shutil\n",
    "#Creating directory to hold augmented images\n",
    "working_dir=r'C:\\dataset\\final'\n",
    "aug_dir=os.path.join(working_dir, 'aug')\n",
    "if os.path.isdir(aug_dir):\n",
    "    shutil.rmtree(aug_dir)\n",
    "os.mkdir(aug_dir)\n",
    "for label in df['Label'].unique():\n",
    "    dir_path=os.path.join(aug_dir,label)    \n",
    "    os.mkdir(dir_path)\n",
    "print(os.listdir(aug_dir))\n"
   ]
  },
  {
   "cell_type": "code",
   "execution_count": 55,
   "metadata": {},
   "outputs": [
    {
     "name": "stdout",
     "output_type": "stream",
     "text": [
      "Found 94 validated image filenames.\n",
      "Found 7 validated image filenames.\n",
      "Found 8 validated image filenames.\n",
      "Found 73 validated image filenames.\n",
      "Found 39 validated image filenames.\n"
     ]
    },
    {
     "name": "stderr",
     "output_type": "stream",
     "text": [
      "c:\\Users\\guest1\\AppData\\Local\\Programs\\Python\\Python310\\lib\\site-packages\\PIL\\Image.py:992: UserWarning: Palette images with Transparency expressed in bytes should be converted to RGBA images\n",
      "  warnings.warn(\n"
     ]
    }
   ],
   "source": [
    "from tensorflow.keras.preprocessing.image import ImageDataGenerator\n",
    "\n",
    "target=150 # set the target count for each class in df\n",
    "gen=ImageDataGenerator(horizontal_flip=True, vertical_flip=True, rotation_range=20, width_shift_range=.2,\n",
    "                              height_shift_range=.2, zoom_range=.2)\n",
    "groups=df.groupby('Label') # group by class\n",
    "for label in df['Label'].unique():  # for every class               \n",
    "    group=groups.get_group(label)  # a dataframe holding only rows with the specified label \n",
    "    sample_count=len(group)   # determine how many samples there are in this class  \n",
    "    if sample_count< target: # if the class has less than target number of images\n",
    "        aug_img_count=0\n",
    "        delta=target-sample_count  # number of augmented images to create\n",
    "        target_dir=os.path.join(aug_dir, label)  # define where to write the images    \n",
    "        aug_gen=gen.flow_from_dataframe( group,  x_col='Path', y_col=None, target_size=(150,150), class_mode=None, batch_size=1,\n",
    "                                         shuffle=False, save_to_dir=target_dir, save_prefix='aug-',save_format='jpg')\n",
    "        while aug_img_count<delta:\n",
    "            images=next(aug_gen)            \n",
    "            aug_img_count += len(images) "
   ]
  },
  {
   "cell_type": "code",
   "execution_count": 56,
   "metadata": {},
   "outputs": [
    {
     "name": "stdout",
     "output_type": "stream",
     "text": [
      "length of aug_df\"  529\n",
      "length of train_df is:  900\n",
      "Label\n",
      "combination      150\n",
      "stress_crack     150\n",
      "non_cracked      150\n",
      "floater_crack    150\n",
      "star_crack       150\n",
      "edge_crack       150\n",
      "Name: count, dtype: int64\n"
     ]
    }
   ],
   "source": [
    "#Rearranging\n",
    "aug_fpaths=[]\n",
    "aug_labels=[]\n",
    "classlist=os.listdir(aug_dir)\n",
    "for klass in classlist:\n",
    "    classpath=os.path.join(aug_dir, klass)     \n",
    "    flist=os.listdir(classpath)    \n",
    "    for f in flist:        \n",
    "        fpath=os.path.join(classpath,f)         \n",
    "        aug_fpaths.append(fpath)\n",
    "        aug_labels.append(klass)\n",
    "Fseries=pd.Series(aug_fpaths, name='Path')\n",
    "Lseries=pd.Series(aug_labels, name='Label')\n",
    "aug_df=pd.concat([Fseries, Lseries], axis=1)\n",
    "print ('length of aug_df\" ', len(aug_df))\n",
    "df=pd.concat([df,aug_df], axis=0).reset_index(drop=True)\n",
    "df=df.sample(frac=1.0, replace=False, random_state=42, axis=0).reset_index(drop=True)\n",
    "print ('length of train_df is: ', len(df)) \n",
    "print (df['Label'].value_counts())       "
   ]
  },
  {
   "cell_type": "code",
   "execution_count": 57,
   "metadata": {},
   "outputs": [],
   "source": [
    "df.to_csv('balanced_dataset.csv')"
   ]
  },
  {
   "cell_type": "code",
   "execution_count": 58,
   "metadata": {},
   "outputs": [
    {
     "data": {
      "text/plain": [
       "900"
      ]
     },
     "execution_count": 58,
     "metadata": {},
     "output_type": "execute_result"
    }
   ],
   "source": [
    "len(df)"
   ]
  },
  {
   "cell_type": "code",
   "execution_count": 27,
   "metadata": {},
   "outputs": [],
   "source": [
    "train_df=df.sample(frac=0.8, replace=True, random_state=42, axis=0).reset_index(drop=True)"
   ]
  },
  {
   "cell_type": "code",
   "execution_count": 39,
   "metadata": {},
   "outputs": [
    {
     "data": {
      "text/html": [
       "<div>\n",
       "<style scoped>\n",
       "    .dataframe tbody tr th:only-of-type {\n",
       "        vertical-align: middle;\n",
       "    }\n",
       "\n",
       "    .dataframe tbody tr th {\n",
       "        vertical-align: top;\n",
       "    }\n",
       "\n",
       "    .dataframe thead th {\n",
       "        text-align: right;\n",
       "    }\n",
       "</style>\n",
       "<table border=\"1\" class=\"dataframe\">\n",
       "  <thead>\n",
       "    <tr style=\"text-align: right;\">\n",
       "      <th></th>\n",
       "      <th>Path</th>\n",
       "      <th>Label</th>\n",
       "    </tr>\n",
       "  </thead>\n",
       "  <tbody>\n",
       "    <tr>\n",
       "      <th>0</th>\n",
       "      <td>C:\\dataset\\final\\non_cracked\\000031.jpg</td>\n",
       "      <td>non_cracked</td>\n",
       "    </tr>\n",
       "    <tr>\n",
       "      <th>1</th>\n",
       "      <td>C:\\dataset\\final\\stress_crack\\000006.jpg</td>\n",
       "      <td>stress_crack</td>\n",
       "    </tr>\n",
       "    <tr>\n",
       "      <th>2</th>\n",
       "      <td>C:\\dataset\\final\\non_cracked\\frame_238.jpg</td>\n",
       "      <td>non_cracked</td>\n",
       "    </tr>\n",
       "    <tr>\n",
       "      <th>3</th>\n",
       "      <td>C:\\dataset\\final\\aug\\floater_crack\\aug-_1_2485...</td>\n",
       "      <td>floater_crack</td>\n",
       "    </tr>\n",
       "    <tr>\n",
       "      <th>4</th>\n",
       "      <td>C:\\dataset\\final\\aug\\edge_crack\\aug-_6_2288559...</td>\n",
       "      <td>edge_crack</td>\n",
       "    </tr>\n",
       "    <tr>\n",
       "      <th>...</th>\n",
       "      <td>...</td>\n",
       "      <td>...</td>\n",
       "    </tr>\n",
       "    <tr>\n",
       "      <th>715</th>\n",
       "      <td>C:\\dataset\\final\\star_crack\\frame_89.jpg</td>\n",
       "      <td>star_crack</td>\n",
       "    </tr>\n",
       "    <tr>\n",
       "      <th>716</th>\n",
       "      <td>C:\\dataset\\final\\aug\\stress_crack\\aug-_18_7166...</td>\n",
       "      <td>stress_crack</td>\n",
       "    </tr>\n",
       "    <tr>\n",
       "      <th>717</th>\n",
       "      <td>C:\\dataset\\final\\aug\\combination\\aug-_13_28774...</td>\n",
       "      <td>combination</td>\n",
       "    </tr>\n",
       "    <tr>\n",
       "      <th>718</th>\n",
       "      <td>C:\\dataset\\final\\star_crack\\frame_118.jpg</td>\n",
       "      <td>star_crack</td>\n",
       "    </tr>\n",
       "    <tr>\n",
       "      <th>719</th>\n",
       "      <td>C:\\dataset\\final\\combination\\frame_9.jpg</td>\n",
       "      <td>combination</td>\n",
       "    </tr>\n",
       "  </tbody>\n",
       "</table>\n",
       "<p>720 rows × 2 columns</p>\n",
       "</div>"
      ],
      "text/plain": [
       "                                                  Path          Label\n",
       "0              C:\\dataset\\final\\non_cracked\\000031.jpg    non_cracked\n",
       "1             C:\\dataset\\final\\stress_crack\\000006.jpg   stress_crack\n",
       "2           C:\\dataset\\final\\non_cracked\\frame_238.jpg    non_cracked\n",
       "3    C:\\dataset\\final\\aug\\floater_crack\\aug-_1_2485...  floater_crack\n",
       "4    C:\\dataset\\final\\aug\\edge_crack\\aug-_6_2288559...     edge_crack\n",
       "..                                                 ...            ...\n",
       "715           C:\\dataset\\final\\star_crack\\frame_89.jpg     star_crack\n",
       "716  C:\\dataset\\final\\aug\\stress_crack\\aug-_18_7166...   stress_crack\n",
       "717  C:\\dataset\\final\\aug\\combination\\aug-_13_28774...    combination\n",
       "718          C:\\dataset\\final\\star_crack\\frame_118.jpg     star_crack\n",
       "719           C:\\dataset\\final\\combination\\frame_9.jpg    combination\n",
       "\n",
       "[720 rows x 2 columns]"
      ]
     },
     "execution_count": 39,
     "metadata": {},
     "output_type": "execute_result"
    }
   ],
   "source": [
    "train_df"
   ]
  },
  {
   "cell_type": "code",
   "execution_count": 43,
   "metadata": {},
   "outputs": [],
   "source": [
    "df_merged = df.merge(train_df, how=\"left\", left_on=[\"Path\",\"Label\"], right_on=[\"Path\",\"Label\"], indicator=True)\n",
    "test_df=df_merged.query(\"_merge == 'left_only'\")[[\"Path\",\"Label\"]].reset_index(drop=True)"
   ]
  },
  {
   "cell_type": "markdown",
   "metadata": {},
   "source": [
    "Train for binary classification"
   ]
  },
  {
   "cell_type": "code",
   "execution_count": 26,
   "metadata": {},
   "outputs": [
    {
     "name": "stderr",
     "output_type": "stream",
     "text": [
      "Copying files: 2070 files [00:05, 400.99 files/s]\n"
     ]
    }
   ],
   "source": [
    "import splitfolders\n",
    "folder=r'C:\\dataset\\classify'\n",
    "splitfolders.ratio(folder,output=r'C:\\dataset\\classify',seed=42,ratio=(.8,.2))"
   ]
  },
  {
   "cell_type": "code",
   "execution_count": 27,
   "metadata": {},
   "outputs": [
    {
     "name": "stdout",
     "output_type": "stream",
     "text": [
      "Found 1656 images belonging to 2 classes.\n",
      "Found 414 images belonging to 2 classes.\n"
     ]
    }
   ],
   "source": [
    "from tensorflow.keras.preprocessing.image import ImageDataGenerator\n",
    "\n",
    "# Load the data\n",
    "\n",
    "train_datagen = ImageDataGenerator(rescale=1./255,\n",
    "                                   featurewise_center=True)\n",
    "\n",
    "validation_datagen = ImageDataGenerator(rescale=1./255,\n",
    "                                        featurewise_center=True)\n",
    "\n",
    "train_generator = train_datagen.flow_from_directory(\n",
    "        r'C:\\dataset\\classify\\train',\n",
    "        target_size=(150, 150),\n",
    "        batch_size=16,\n",
    "        class_mode='categorical')\n",
    "\n",
    "validation_generator = validation_datagen.flow_from_directory(\n",
    "        r'C:\\dataset\\classify\\val',\n",
    "        target_size=(150, 150),\n",
    "        batch_size=16,\n",
    "        class_mode='categorical')"
   ]
  },
  {
   "cell_type": "code",
   "execution_count": 28,
   "metadata": {},
   "outputs": [
    {
     "name": "stdout",
     "output_type": "stream",
     "text": [
      "Model: \"sequential_2\"\n",
      "_________________________________________________________________\n",
      " Layer (type)                Output Shape              Param #   \n",
      "=================================================================\n",
      " vgg16 (Functional)          (None, 4, 4, 512)         14714688  \n",
      "                                                                 \n",
      " flatten_2 (Flatten)         (None, 8192)              0         \n",
      "                                                                 \n",
      " dense_4 (Dense)             (None, 32)                262176    \n",
      "                                                                 \n",
      " dropout_2 (Dropout)         (None, 32)                0         \n",
      "                                                                 \n",
      " dense_5 (Dense)             (None, 2)                 66        \n",
      "                                                                 \n",
      "=================================================================\n",
      "Total params: 14976930 (57.13 MB)\n",
      "Trainable params: 262242 (1.00 MB)\n",
      "Non-trainable params: 14714688 (56.13 MB)\n",
      "_________________________________________________________________\n"
     ]
    }
   ],
   "source": [
    "import tensorflow as tf\n",
    "from tensorflow.keras import layers\n",
    "from tensorflow.keras.applications import VGG16\n",
    "\n",
    "# Load the pre-trained VGG16 model\n",
    "vgg16 = VGG16(weights='imagenet', include_top=False, input_shape=(150, 150, 3))\n",
    "\n",
    "# Freeze the pre-trained layers\n",
    "for layer in vgg16.layers:\n",
    "    layer.trainable = False\n",
    "\n",
    "# Add new classification layers on top of the pre-trained model\n",
    "model = tf.keras.Sequential([\n",
    "    vgg16,\n",
    "    layers.Flatten(),\n",
    "    layers.Dense(32, activation='relu'),\n",
    "    layers.Dropout(0.5),\n",
    "    layers.Dense(2, activation='sigmoid')\n",
    "])\n",
    "\n",
    "# Compile the model\n",
    "model.compile(optimizer='adam',\n",
    "              loss='BinaryCrossentropy',\n",
    "              metrics=['accuracy'],\n",
    "              run_eagerly=True)\n",
    "model.summary()"
   ]
  },
  {
   "cell_type": "code",
   "execution_count": 29,
   "metadata": {},
   "outputs": [
    {
     "name": "stdout",
     "output_type": "stream",
     "text": [
      "104\n",
      "26\n"
     ]
    }
   ],
   "source": [
    "print(len(train_generator))\n",
    "print(len(validation_generator))"
   ]
  },
  {
   "cell_type": "code",
   "execution_count": 30,
   "metadata": {},
   "outputs": [
    {
     "name": "stderr",
     "output_type": "stream",
     "text": [
      "c:\\python\\lib\\site-packages\\keras\\src\\preprocessing\\image.py:1861: UserWarning: This ImageDataGenerator specifies `featurewise_center`, but it hasn't been fit on any training data. Fit it first by calling `.fit(numpy_data)`.\n",
      "  warnings.warn(\n",
      "c:\\python\\lib\\site-packages\\PIL\\Image.py:992: UserWarning: Palette images with Transparency expressed in bytes should be converted to RGBA images\n",
      "  warnings.warn(\n"
     ]
    },
    {
     "name": "stdout",
     "output_type": "stream",
     "text": [
      "Epoch 1/10\n",
      "6/6 [==============================] - 22s 4s/step - loss: 0.7756 - accuracy: 0.5417 - val_loss: 0.6457 - val_accuracy: 0.5625\n",
      "Epoch 2/10\n",
      "6/6 [==============================] - 21s 3s/step - loss: 0.6759 - accuracy: 0.6562 - val_loss: 0.6022 - val_accuracy: 0.9375\n",
      "Epoch 3/10\n",
      "6/6 [==============================] - 22s 4s/step - loss: 0.6183 - accuracy: 0.7604 - val_loss: 0.6067 - val_accuracy: 0.7500\n",
      "Epoch 4/10\n",
      "6/6 [==============================] - 21s 4s/step - loss: 0.6263 - accuracy: 0.7292 - val_loss: 0.5372 - val_accuracy: 0.9375\n",
      "Epoch 5/10\n",
      "6/6 [==============================] - 20s 3s/step - loss: 0.5950 - accuracy: 0.7386 - val_loss: 0.5429 - val_accuracy: 0.9375\n",
      "Epoch 6/10\n",
      "6/6 [==============================] - 22s 4s/step - loss: 0.5580 - accuracy: 0.7604 - val_loss: 0.4688 - val_accuracy: 1.0000\n",
      "Epoch 7/10\n",
      "6/6 [==============================] - 21s 4s/step - loss: 0.5417 - accuracy: 0.7917 - val_loss: 0.4875 - val_accuracy: 0.7500\n",
      "Epoch 8/10\n",
      "6/6 [==============================] - 22s 4s/step - loss: 0.5479 - accuracy: 0.7812 - val_loss: 0.4686 - val_accuracy: 0.9375\n",
      "Epoch 9/10\n",
      "6/6 [==============================] - 21s 4s/step - loss: 0.4463 - accuracy: 0.7812 - val_loss: 0.3833 - val_accuracy: 0.8750\n",
      "Epoch 10/10\n",
      "6/6 [==============================] - 22s 4s/step - loss: 0.4015 - accuracy: 0.8021 - val_loss: 0.5066 - val_accuracy: 0.8750\n"
     ]
    }
   ],
   "source": [
    "callback = tf.keras.callbacks.EarlyStopping(monitor='loss', patience=5)\n",
    "\n",
    "history = model.fit(train_generator,\n",
    "      steps_per_epoch=len(train_generator)//16,\n",
    "      epochs=10,\n",
    "      callbacks=[callback],\n",
    "      validation_data=validation_generator,\n",
    "      validation_steps=len(validation_generator)//16)"
   ]
  },
  {
   "cell_type": "markdown",
   "metadata": {},
   "source": [
    "Initial"
   ]
  },
  {
   "cell_type": "code",
   "execution_count": 36,
   "metadata": {},
   "outputs": [
    {
     "name": "stdout",
     "output_type": "stream",
     "text": [
      "3/3 [==============================] - 4s 1s/step - loss: 0.1267 - accuracy: 0.9651\n"
     ]
    },
    {
     "data": {
      "text/plain": [
       "[0.12665648758411407, 0.9651162624359131]"
      ]
     },
     "execution_count": 36,
     "metadata": {},
     "output_type": "execute_result"
    }
   ],
   "source": [
    "model.evaluate(validation_generator)"
   ]
  },
  {
   "cell_type": "code",
   "execution_count": 37,
   "metadata": {},
   "outputs": [
    {
     "name": "stderr",
     "output_type": "stream",
     "text": [
      "c:\\python\\lib\\site-packages\\keras\\src\\engine\\training.py:3000: UserWarning: You are saving your model as an HDF5 file via `model.save()`. This file format is considered legacy. We recommend using instead the native Keras format, e.g. `model.save('my_model.keras')`.\n",
      "  saving_api.save_model(\n"
     ]
    }
   ],
   "source": [
    "model.save('classify.h5')"
   ]
  },
  {
   "cell_type": "markdown",
   "metadata": {},
   "source": [
    "Training-2"
   ]
  },
  {
   "cell_type": "code",
   "execution_count": 61,
   "metadata": {},
   "outputs": [
    {
     "name": "stdout",
     "output_type": "stream",
     "text": [
      "3/3 [==============================] - 4s 1s/step - loss: 0.1553 - accuracy: 0.9651\n"
     ]
    },
    {
     "data": {
      "text/plain": [
       "[0.15530917048454285, 0.9651162624359131]"
      ]
     },
     "execution_count": 61,
     "metadata": {},
     "output_type": "execute_result"
    }
   ],
   "source": [
    "model.evaluate(validation_generator)"
   ]
  },
  {
   "cell_type": "markdown",
   "metadata": {},
   "source": [
    "With bigger dataset"
   ]
  },
  {
   "cell_type": "code",
   "execution_count": 14,
   "metadata": {},
   "outputs": [
    {
     "name": "stdout",
     "output_type": "stream",
     "text": [
      "28/28 [==============================] - 21s 753ms/step - loss: 0.3907 - accuracy: 0.9176\n"
     ]
    },
    {
     "data": {
      "text/plain": [
       "[0.3906921148300171, 0.9176201224327087]"
      ]
     },
     "execution_count": 14,
     "metadata": {},
     "output_type": "execute_result"
    }
   ],
   "source": [
    "model.evaluate(validation_generator)"
   ]
  },
  {
   "cell_type": "markdown",
   "metadata": {},
   "source": [
    "Edit"
   ]
  },
  {
   "cell_type": "code",
   "execution_count": 31,
   "metadata": {},
   "outputs": [
    {
     "name": "stdout",
     "output_type": "stream",
     "text": [
      "26/26 [==============================] - 21s 788ms/step - loss: 0.3984 - accuracy: 0.9179\n"
     ]
    },
    {
     "data": {
      "text/plain": [
       "[0.39835748076438904, 0.9178743958473206]"
      ]
     },
     "execution_count": 31,
     "metadata": {},
     "output_type": "execute_result"
    }
   ],
   "source": [
    "model.evaluate(validation_generator)"
   ]
  },
  {
   "cell_type": "code",
   "execution_count": 41,
   "metadata": {},
   "outputs": [
    {
     "name": "stderr",
     "output_type": "stream",
     "text": [
      "c:\\python\\lib\\site-packages\\keras\\src\\engine\\training.py:3000: UserWarning: You are saving your model as an HDF5 file via `model.save()`. This file format is considered legacy. We recommend using instead the native Keras format, e.g. `model.save('my_model.keras')`.\n",
      "  saving_api.save_model(\n"
     ]
    }
   ],
   "source": [
    "model.save('classify.h5')"
   ]
  },
  {
   "cell_type": "markdown",
   "metadata": {},
   "source": [
    "Predict"
   ]
  },
  {
   "cell_type": "code",
   "execution_count": 40,
   "metadata": {},
   "outputs": [
    {
     "name": "stdout",
     "output_type": "stream",
     "text": [
      "(1, 150, 150, 3)\n",
      "1/1 [==============================] - 0s 100ms/step\n"
     ]
    },
    {
     "data": {
      "text/plain": [
       "array([0.45086354, 0.79929143], dtype=float32)"
      ]
     },
     "execution_count": 40,
     "metadata": {},
     "output_type": "execute_result"
    }
   ],
   "source": [
    "from PIL import Image\n",
    "from tensorflow.keras.preprocessing.image import img_to_array\n",
    "from tensorflow.keras.preprocessing.image import load_img\n",
    "from tensorflow.keras.preprocessing.image import img_to_array\n",
    "import numpy as np\n",
    "\n",
    "image=r'C:\\Users\\guest1.OTLBLRDSK008\\Desktop\\Project\\samples\\img7.jpg'\n",
    "img = load_img(image, target_size=(150, 150))\n",
    "img = img.resize((150,150))\n",
    "img = img_to_array(img)\n",
    "img = img.astype('float32')\n",
    "img = img / 255.0\n",
    "img = np.expand_dims(img,axis=0)\n",
    "print(img.shape)\n",
    "out = np.squeeze(model.predict(img))\n",
    "out\n"
   ]
  },
  {
   "cell_type": "markdown",
   "metadata": {},
   "source": [
    "Oversampling using augmentation"
   ]
  },
  {
   "cell_type": "code",
   "execution_count": 2,
   "metadata": {},
   "outputs": [
    {
     "name": "stdout",
     "output_type": "stream",
     "text": [
      "                                              Path\n",
      "0       C:\\dataset\\classify\\non_cracked\\000001.jpg\n",
      "1       C:\\dataset\\classify\\non_cracked\\000002.jpg\n",
      "2       C:\\dataset\\classify\\non_cracked\\000004.jpg\n",
      "3       C:\\dataset\\classify\\non_cracked\\000010.jpg\n",
      "4       C:\\dataset\\classify\\non_cracked\\000011.jpg\n",
      "..                                             ...\n",
      "197  C:\\dataset\\classify\\non_cracked\\frame_355.jpg\n",
      "198  C:\\dataset\\classify\\non_cracked\\frame_356.jpg\n",
      "199  C:\\dataset\\classify\\non_cracked\\frame_357.jpg\n",
      "200  C:\\dataset\\classify\\non_cracked\\frame_358.jpg\n",
      "201  C:\\dataset\\classify\\non_cracked\\frame_359.jpg\n",
      "\n",
      "[202 rows x 1 columns]\n",
      "202\n",
      "Found 202 validated image filenames.\n"
     ]
    }
   ],
   "source": [
    "from tensorflow.keras.preprocessing.image import ImageDataGenerator\n",
    "import pandas as pd\n",
    "import os\n",
    "target=1000  # set the target count for each class in df\n",
    "gen=ImageDataGenerator(horizontal_flip=True, vertical_flip=True, rotation_range=20, width_shift_range=.2,\n",
    "                              height_shift_range=.2, zoom_range=.2)\n",
    "path=r'C:\\dataset\\classify\\non_cracked'\n",
    "lst=[]\n",
    "for a in os.listdir(path):\n",
    "     lst.append(os.path.join(path, a))\n",
    "group=pd.DataFrame(lst,columns=['Path'])\n",
    "print(group)\n",
    "sample_count=len(group)   # determine how many samples there are in this class  \n",
    "print(sample_count)\n",
    "if sample_count< target: # if the class has less than target number of images\n",
    "    aug_img_count=0\n",
    "    delta=target-sample_count  # number of augmented images to create\n",
    "    target_dir=path  # define where to write the images    \n",
    "    aug_gen=gen.flow_from_dataframe( group,  x_col='Path', y_col=None, target_size=(600,600), class_mode=None, batch_size=1,\n",
    "                                        shuffle=False, save_to_dir=target_dir, save_prefix='aug_',save_format='jpg')\n",
    "    while aug_img_count<delta:\n",
    "        images=next(aug_gen)            \n",
    "        aug_img_count += len(images) \n"
   ]
  },
  {
   "cell_type": "code",
   "execution_count": 71,
   "metadata": {},
   "outputs": [
    {
     "data": {
      "text/plain": [
       "Path    C:\\new_dataset\\images_2\\img61_2.jpg\n",
       "Name: 57, dtype: object"
      ]
     },
     "execution_count": 71,
     "metadata": {},
     "output_type": "execute_result"
    }
   ],
   "source": [
    "group.iloc[57,:]"
   ]
  },
  {
   "cell_type": "code",
   "execution_count": null,
   "metadata": {},
   "outputs": [],
   "source": [
    "import datetime \n",
    "import pandas as pd\n",
    "# using now() to get current time\n",
    "current_time = datetime.datetime.now()\n"
   ]
  },
  {
   "cell_type": "code",
   "execution_count": 10,
   "metadata": {},
   "outputs": [],
   "source": [
    "import xlsxwriter\n",
    "\n",
    "wb = xlsxwriter.Workbook('merging.xlsx')\n",
    "ws = wb.add_worksheet()\n",
    "\n",
    "mf = wb.add_format({'align': 'center', 'valign': 'vcenter'})\n",
    "ws.merge_range(1, 1, 2, 2, 'an old falcon', mf)\n",
    "\n",
    "ws.merge_range('E5:G5', 'misty mountains', mf)\n",
    "\n",
    "wb.close()"
   ]
  },
  {
   "cell_type": "code",
   "execution_count": 2,
   "metadata": {},
   "outputs": [
    {
     "name": "stderr",
     "output_type": "stream",
     "text": [
      "2023-09-01 12:01:30.442 \n",
      "  \u001b[33m\u001b[1mWarning:\u001b[0m to view this Streamlit app on a browser, run it with the following\n",
      "  command:\n",
      "\n",
      "    streamlit run C:\\Users\\guest1.OTLBLRDSK008\\AppData\\Roaming\\Python\\Python310\\site-packages\\ipykernel_launcher.py [ARGUMENTS]\n"
     ]
    },
    {
     "data": {
      "text/plain": [
       "False"
      ]
     },
     "execution_count": 2,
     "metadata": {},
     "output_type": "execute_result"
    }
   ],
   "source": []
  }
 ],
 "metadata": {
  "kernelspec": {
   "display_name": "Python 3",
   "language": "python",
   "name": "python3"
  },
  "language_info": {
   "codemirror_mode": {
    "name": "ipython",
    "version": 3
   },
   "file_extension": ".py",
   "mimetype": "text/x-python",
   "name": "python",
   "nbconvert_exporter": "python",
   "pygments_lexer": "ipython3",
   "version": "3.10.2"
  },
  "orig_nbformat": 4
 },
 "nbformat": 4,
 "nbformat_minor": 2
}
